{
  "nbformat": 4,
  "nbformat_minor": 0,
  "metadata": {
    "colab": {
      "name": "MNIST_autoencoder.ipynb",
      "provenance": [],
      "collapsed_sections": []
    },
    "kernelspec": {
      "name": "python3",
      "display_name": "Python 3"
    }
  },
  "cells": [
    {
      "cell_type": "markdown",
      "metadata": {
        "id": "NlMHwrsx3HvS",
        "colab_type": "text"
      },
      "source": [
        "import some Prerequisites"
      ]
    },
    {
      "cell_type": "code",
      "metadata": {
        "id": "cp-gATgFykNu",
        "colab_type": "code",
        "colab": {}
      },
      "source": [
        "from keras.datasets import mnist\n",
        "from keras.models import Sequential,save_model,load_model\n",
        "from keras.layers import Dense\n",
        "from matplotlib import pyplot as plt\n",
        "import numpy as np\n",
        "import random"
      ],
      "execution_count": 0,
      "outputs": []
    },
    {
      "cell_type": "markdown",
      "metadata": {
        "id": "qxStiSQD3Tqk",
        "colab_type": "text"
      },
      "source": [
        "load and prepare MNIST dataset"
      ]
    },
    {
      "cell_type": "code",
      "metadata": {
        "id": "PzWQc5F308xe",
        "colab_type": "code",
        "colab": {}
      },
      "source": [
        "(X_train, _ ), (X_test, _ ) = mnist.load_data()\n",
        "X_test = X_test.reshape(10000,784)\n",
        "X_train = X_train.reshape(60000,784)\n",
        "X_train = X_train.astype('float32')\n",
        "X_test = X_test.astype('float32')\n",
        "X_train = np.around(X_train / 255)\n",
        "X_test = np.around(X_test / 255)"
      ],
      "execution_count": 0,
      "outputs": []
    },
    {
      "cell_type": "markdown",
      "metadata": {
        "id": "MRvIeTgd3EJ4",
        "colab_type": "text"
      },
      "source": [
        "build autoencoder"
      ]
    },
    {
      "cell_type": "code",
      "metadata": {
        "id": "g2EyZygP1kGN",
        "colab_type": "code",
        "colab": {
          "base_uri": "https://localhost:8080/",
          "height": 221
        },
        "outputId": "c4d28586-a87d-47b0-bbb3-85e15f58eda2"
      },
      "source": [
        "autoencoder = Sequential()\n",
        "\n",
        "# Add a dense layer with the original image as input\n",
        "autoencoder.add(Dense(32, input_shape=(784, ), activation=\"relu\"))\n",
        "# Add an output layer with as many nodes as the image\n",
        "autoencoder.add(Dense(784, activation=\"sigmoid\"))\n",
        "\n",
        "autoencoder.compile(optimizer='adadelta', loss='binary_crossentropy',metrics=['acc'])\n",
        "autoencoder.summary()"
      ],
      "execution_count": 12,
      "outputs": [
        {
          "output_type": "stream",
          "text": [
            "Model: \"sequential_4\"\n",
            "_________________________________________________________________\n",
            "Layer (type)                 Output Shape              Param #   \n",
            "=================================================================\n",
            "dense_3 (Dense)              (None, 32)                25120     \n",
            "_________________________________________________________________\n",
            "dense_4 (Dense)              (None, 784)               25872     \n",
            "=================================================================\n",
            "Total params: 50,992\n",
            "Trainable params: 50,992\n",
            "Non-trainable params: 0\n",
            "_________________________________________________________________\n"
          ],
          "name": "stdout"
        }
      ]
    },
    {
      "cell_type": "markdown",
      "metadata": {
        "id": "nzLcD0Qx5sif",
        "colab_type": "text"
      },
      "source": [
        "train autoencoder"
      ]
    },
    {
      "cell_type": "code",
      "metadata": {
        "id": "zyCf-ZVB5q-F",
        "colab_type": "code",
        "colab": {
          "base_uri": "https://localhost:8080/",
          "height": 357
        },
        "outputId": "4a750d11-fd25-474e-ceff-6c2e4c3a002f"
      },
      "source": [
        "history = autoencoder.fit(X_train,X_train,epochs = 10)"
      ],
      "execution_count": 13,
      "outputs": [
        {
          "output_type": "stream",
          "text": [
            "Epoch 1/10\n",
            "60000/60000 [==============================] - 5s 79us/step - loss: 0.2238 - acc: 0.9002\n",
            "Epoch 2/10\n",
            "60000/60000 [==============================] - 5s 79us/step - loss: 0.1430 - acc: 0.9405\n",
            "Epoch 3/10\n",
            "60000/60000 [==============================] - 5s 78us/step - loss: 0.1154 - acc: 0.9530\n",
            "Epoch 4/10\n",
            "60000/60000 [==============================] - 5s 77us/step - loss: 0.0975 - acc: 0.9610\n",
            "Epoch 5/10\n",
            "60000/60000 [==============================] - 5s 78us/step - loss: 0.0862 - acc: 0.9658\n",
            "Epoch 6/10\n",
            "60000/60000 [==============================] - 5s 79us/step - loss: 0.0795 - acc: 0.9685\n",
            "Epoch 7/10\n",
            "60000/60000 [==============================] - 5s 79us/step - loss: 0.0755 - acc: 0.9699\n",
            "Epoch 8/10\n",
            "60000/60000 [==============================] - 5s 77us/step - loss: 0.0731 - acc: 0.9708\n",
            "Epoch 9/10\n",
            "60000/60000 [==============================] - 5s 78us/step - loss: 0.0716 - acc: 0.9713\n",
            "Epoch 10/10\n",
            "60000/60000 [==============================] - 5s 78us/step - loss: 0.0705 - acc: 0.9717\n"
          ],
          "name": "stdout"
        }
      ]
    },
    {
      "cell_type": "code",
      "metadata": {
        "id": "Na0pVd0C55_K",
        "colab_type": "code",
        "colab": {
          "base_uri": "https://localhost:8080/",
          "height": 513
        },
        "outputId": "9fecaf16-dd3d-46f4-c790-40a11de1b92f"
      },
      "source": [
        "plt.plot(history.history['loss'])\n",
        "plt.show()\n",
        "plt.plot(history.history['acc'])\n",
        "plt.show()"
      ],
      "execution_count": 14,
      "outputs": [
        {
          "output_type": "display_data",
          "data": {
            "image/png": "[encoded data removed]",
            "text/plain": [
              "<Figure size 432x288 with 1 Axes>"
            ]
          },
          "metadata": {
            "tags": [],
            "needs_background": "light"
          }
        },
        {
          "output_type": "display_data",
          "data": {
            "image/png": "[encoded data removed]",
            "text/plain": [
              "<Figure size 432x288 with 1 Axes>"
            ]
          },
          "metadata": {
            "tags": [],
            "needs_background": "light"
          }
        }
      ]
    },
    {
      "cell_type": "markdown",
      "metadata": {
        "id": "Y6LFySOX3dRm",
        "colab_type": "text"
      },
      "source": [
        "build encoder"
      ]
    },
    {
      "cell_type": "code",
      "metadata": {
        "id": "jfmy2i48293h",
        "colab_type": "code",
        "colab": {}
      },
      "source": [
        "encoder = Sequential()\n",
        "encoder.add(autoencoder.layers[0])\n",
        "save_model(encoder,'encoder.hdf5')"
      ],
      "execution_count": 0,
      "outputs": []
    },
    {
      "cell_type": "markdown",
      "metadata": {
        "id": "RI2dj82I-SBa",
        "colab_type": "text"
      },
      "source": [
        "build decoder"
      ]
    },
    {
      "cell_type": "code",
      "metadata": {
        "id": "ZCIkYcW4-EO-",
        "colab_type": "code",
        "colab": {}
      },
      "source": [
        "decoder = Sequential()\n",
        "decoder.add(autoencoder.layers[1])\n",
        "save_model(decoder,'decoder.hdf5')"
      ],
      "execution_count": 0,
      "outputs": []
    },
    {
      "cell_type": "markdown",
      "metadata": {
        "id": "AVN46VB9-XLV",
        "colab_type": "text"
      },
      "source": [
        "# some usages of autoencoder"
      ]
    },
    {
      "cell_type": "markdown",
      "metadata": {
        "id": "NTKIPX4d-f6f",
        "colab_type": "text"
      },
      "source": [
        "**1.compressing**"
      ]
    },
    {
      "cell_type": "markdown",
      "metadata": {
        "id": "uJMWSqoVIGzT",
        "colab_type": "text"
      },
      "source": [
        "compress"
      ]
    },
    {
      "cell_type": "code",
      "metadata": {
        "id": "zFCzZbNH9T_Q",
        "colab_type": "code",
        "colab": {
          "base_uri": "https://localhost:8080/",
          "height": 417
        },
        "outputId": "95ecb604-895e-4b7a-9464-c3953146d7ca"
      },
      "source": [
        "ind = random.randint(0,10000) \n",
        "\n",
        "plt.imshow(np.reshape(X_test[ind],(28,28)))\n",
        "plt.title('real image')\n",
        "plt.show()\n",
        "\n",
        "encoded_img = encoder.predict(np.array([X_test[ind]]))\n",
        "print('encoded to :{} \\n\\n'.format(encoded_img[0]))\n"
      ],
      "execution_count": 17,
      "outputs": [
        {
          "output_type": "display_data",
          "data": {
            "image/png": "[encoded data removed]",
            "text/plain": [
              "<Figure size 432x288 with 1 Axes>"
            ]
          },
          "metadata": {
            "tags": [],
            "needs_background": "light"
          }
        },
        {
          "output_type": "stream",
          "text": [
            "encoded to :[ 7.469024   6.2279525  7.036956   8.660095  14.406961  22.41591\n",
            " 13.077379   8.099631  23.564701  11.936352   8.0381155 16.866533\n",
            " 14.836622  17.565327  19.025686   5.1955566 14.622426  14.231044\n",
            " 21.538416  20.083342   3.8446827  6.17986   20.82823   21.959705\n",
            "  4.39561   12.732374  11.162942   9.982211  13.178375   8.707627\n",
            " 11.115441   8.44736  ] \n",
            "\n",
            "\n"
          ],
          "name": "stdout"
        }
      ]
    },
    {
      "cell_type": "markdown",
      "metadata": {
        "id": "AMzvOTS_ILgS",
        "colab_type": "text"
      },
      "source": [
        "decompress"
      ]
    },
    {
      "cell_type": "code",
      "metadata": {
        "id": "2QBVvPONIOi7",
        "colab_type": "code",
        "colab": {
          "base_uri": "https://localhost:8080/",
          "height": 281
        },
        "outputId": "9fd9ef33-21f2-4a65-d843-c26e0e57e551"
      },
      "source": [
        "decoded_img = np.reshape(np.round(decoder.predict( np.array ( [encoded_img[0]] ) )),(28,28))\n",
        "plt.imshow(decoded_img)\n",
        "plt.title('decoded image')\n",
        "plt.show()"
      ],
      "execution_count": 18,
      "outputs": [
        {
          "output_type": "display_data",
          "data": {
            "image/png": "[encoded data removed]",
            "text/plain": [
              "<Figure size 432x288 with 1 Axes>"
            ]
          },
          "metadata": {
            "tags": [],
            "needs_background": "light"
          }
        }
      ]
    },
    {
      "cell_type": "markdown",
      "metadata": {
        "id": "kL1_EBvPdpUn",
        "colab_type": "text"
      },
      "source": [
        "**2.DeNoise**"
      ]
    },
    {
      "cell_type": "code",
      "metadata": {
        "id": "R_KFvbi6dw3_",
        "colab_type": "code",
        "colab": {
          "base_uri": "https://localhost:8080/",
          "height": 281
        },
        "outputId": "cd7fb325-ff17-4c04-a3e4-ab8fc221469e"
      },
      "source": [
        "ind = random.randint(0,10000) \n",
        "\n",
        "test_img = np.reshape(X_test[ind],(28,28))\n",
        "noisy_img = test_img+test_img.std()*np.random.random(test_img.shape)\n",
        "plt.imshow(noisy_img)\n",
        "plt.title('noisy image')\n",
        "plt.show()"
      ],
      "execution_count": 41,
      "outputs": [
        {
          "output_type": "display_data",
          "data": {
            "image/png": "[encoded data removed]",
            "text/plain": [
              "<Figure size 432x288 with 1 Axes>"
            ]
          },
          "metadata": {
            "tags": [],
            "needs_background": "light"
          }
        }
      ]
    },
    {
      "cell_type": "code",
      "metadata": {
        "id": "dhs-Wm14fKhx",
        "colab_type": "code",
        "colab": {
          "base_uri": "https://localhost:8080/",
          "height": 282
        },
        "outputId": "5917d27c-4ea9-49b0-9ac2-40a35c998d59"
      },
      "source": [
        " result_image = autoencoder.predict( np.array( [np.reshape(noisy_img,(784,))] ))\n",
        " result_image = np.reshape(result_image,(28,28))\n",
        " plt.imshow(result_image)"
      ],
      "execution_count": 48,
      "outputs": [
        {
          "output_type": "execute_result",
          "data": {
            "text/plain": [
              "<matplotlib.image.AxesImage at 0x7f939bbc0eb8>"
            ]
          },
          "metadata": {
            "tags": []
          },
          "execution_count": 48
        },
        {
          "output_type": "display_data",
          "data": {
            "image/png": "[encoded data removed]",
            "text/plain": [
              "<Figure size 432x288 with 1 Axes>"
            ]
          },
          "metadata": {
            "tags": [],
            "needs_background": "light"
          }
        }
      ]
    }
  ]
}